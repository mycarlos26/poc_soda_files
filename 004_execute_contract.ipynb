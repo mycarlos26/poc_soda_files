{
 "cells": [
  {
   "cell_type": "code",
   "execution_count": 8,
   "metadata": {},
   "outputs": [],
   "source": [
    "import logging as log\n",
    "import yaml"
   ]
  },
  {
   "cell_type": "code",
   "execution_count": 10,
   "metadata": {},
   "outputs": [
    {
     "name": "stdout",
     "output_type": "stream",
     "text": [
      "checks for emoji:\n",
      "    - row_count > 0\n",
      "    - invalid_count(\"User Age\") = 0:\n",
      "        valid min: 26\n",
      "        valid max: 52\n",
      "    - avg(\"User Age\") > 37\n",
      "    - duplicate_count(Emoji) = 0\n",
      "    - schema: # Checks for schema changes\n",
      "        name: Find forbidden, missing, or wrong type\n",
      "        warn:\n",
      "            when required column missing: [Emoji, \"User Gender\"]\n",
      "            when forbidden column present: [credit_card]\n",
      "            when wrong column type:\n",
      "                Platform: varchar\n",
      "        fail:\n",
      "            when forbidden column present: [pii*]\n",
      "            when wrong column index:\n",
      "                \"User Age\": 1\n",
      "\n"
     ]
    }
   ],
   "source": [
    "def run_contract_scan(datacontract_yml_path: str, file_path: str):\n",
    "    with open(datacontract_yml_path, \"r\") as infile:\n",
    "        checks_filepath = yaml.safe_load(infile.read())[\"archivo_de_revision_de_datos\"]\n",
    "        with open(checks_filepath, \"r\") as checks_file:\n",
    "            checks = checks_file.read()\n",
    "    # log.info(checks)\n",
    "    print(checks)\n",
    "\n",
    "    scan = Scan()\n",
    "    scan.set_scan_definition_name(\"test\")\n",
    "    scan.set_data_source_name(\"dask\")\n",
    "\n",
    "    ddf = dd.read_csv('data/emoji_usage_dataset.csv')\n",
    "\n",
    "    scan.add_dask_dataframe(dataset_name=\"emoji\", dask_df=ddf)\n",
    "\n",
    "run_contract_scan(datacontract_yml_path = \"contracts/data_contract_emoji.yml\")"
   ]
  },
  {
   "cell_type": "code",
   "execution_count": null,
   "metadata": {},
   "outputs": [],
   "source": []
  }
 ],
 "metadata": {
  "kernelspec": {
   "display_name": "soda_files",
   "language": "python",
   "name": "python3"
  },
  "language_info": {
   "codemirror_mode": {
    "name": "ipython",
    "version": 3
   },
   "file_extension": ".py",
   "mimetype": "text/x-python",
   "name": "python",
   "nbconvert_exporter": "python",
   "pygments_lexer": "ipython3",
   "version": "3.8.19"
  },
  "orig_nbformat": 4
 },
 "nbformat": 4,
 "nbformat_minor": 2
}
