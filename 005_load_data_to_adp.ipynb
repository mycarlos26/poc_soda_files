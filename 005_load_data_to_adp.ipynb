{
 "cells": [
  {
   "cell_type": "code",
   "execution_count": 7,
   "metadata": {},
   "outputs": [],
   "source": [
    "import os\n",
    "import logging as log\n",
    "from dotenv import load_dotenv\n",
    "load_dotenv()\n",
    "\n",
    "from src.processor import PostgreSQLProcessor"
   ]
  },
  {
   "cell_type": "code",
   "execution_count": 8,
   "metadata": {},
   "outputs": [],
   "source": [
    "def create_tables():\n",
    "    with open(\"sql/002_create_datacontracts_table.sql\", \"r\") as infile:\n",
    "        query = infile.read()\n",
    "    log.info(f\"query: {query}\")\n",
    "    conn_data = dict(\n",
    "        host = os.environ[\"HOST\"],\n",
    "        port = os.environ[\"PORT\"],\n",
    "        user = os.environ[\"USER\"],\n",
    "        password = os.environ[\"PASS\"],\n",
    "        database = os.environ[\"DB\"]\n",
    "    )\n",
    "    processor = PostgreSQLProcessor(**conn_data)\n",
    "    processor.connect()\n",
    "    log.info(\"Ejecutando query...\")\n",
    "    processor.execute(query)\n",
    "    log.info(\"Query ejecutado\")\n",
    "\n",
    "create_tables()"
   ]
  },
  {
   "cell_type": "code",
   "execution_count": null,
   "metadata": {},
   "outputs": [],
   "source": []
  }
 ],
 "metadata": {
  "kernelspec": {
   "display_name": "soda_files",
   "language": "python",
   "name": "python3"
  },
  "language_info": {
   "codemirror_mode": {
    "name": "ipython",
    "version": 3
   },
   "file_extension": ".py",
   "mimetype": "text/x-python",
   "name": "python",
   "nbconvert_exporter": "python",
   "pygments_lexer": "ipython3",
   "version": "3.8.19"
  },
  "orig_nbformat": 4
 },
 "nbformat": 4,
 "nbformat_minor": 2
}
