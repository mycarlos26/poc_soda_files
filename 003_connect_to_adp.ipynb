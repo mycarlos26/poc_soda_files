{
 "cells": [
  {
   "cell_type": "code",
   "execution_count": 2,
   "metadata": {},
   "outputs": [
    {
     "data": {
      "text/plain": [
       "True"
      ]
     },
     "execution_count": 2,
     "metadata": {},
     "output_type": "execute_result"
    }
   ],
   "source": [
    "import os\n",
    "import psycopg2\n",
    "import redshift_connector\n",
    "from dotenv import load_dotenv\n",
    "load_dotenv()"
   ]
  },
  {
   "cell_type": "code",
   "execution_count": 11,
   "metadata": {},
   "outputs": [],
   "source": [
    "postgresqlconn_data = dict(\n",
    "    host = os.environ[\"HOST\"],\n",
    "    port = os.environ[\"PORT\"],\n",
    "    user = os.environ[\"USER\"],\n",
    "    password = os.environ[\"PASS\"],\n",
    "    database = os.environ[\"DB\"]\n",
    ")"
   ]
  },
  {
   "cell_type": "code",
   "execution_count": 12,
   "metadata": {},
   "outputs": [],
   "source": [
    "postgresql_conn = psycopg2.connect(**postgresqlconn_data)\n",
    "postgresql_cur = postgresql_conn.cursor()"
   ]
  },
  {
   "cell_type": "code",
   "execution_count": 14,
   "metadata": {},
   "outputs": [
    {
     "data": {
      "text/plain": [
       "[(1, None, None, 'null', None, None),\n",
       " (1, '{\"llave\": \"Valor\"}', True, '\"{\\\\\"llave\\\\\": \\\\\"Valor\\\\\"}\"', 'Valor', '')]"
      ]
     },
     "execution_count": 14,
     "metadata": {},
     "output_type": "execute_result"
    }
   ],
   "source": [
    "query = \"\"\"\n",
    "select\n",
    "\tid\n",
    "\t, raw_data::varchar\n",
    "\t, CAN_JSON_PARSE(raw_data::VARCHAR) as can_json\n",
    "\t, JSON_SERIALIZE(raw_data) as json\n",
    "\t, JSON_EXTRACT_PATH_TEXT(raw_data::varchar, 'llave') as extraccion\n",
    "\t, JSON_EXTRACT_PATH_TEXT(raw_data::varchar, 'llave_inexistente') as inexistente\n",
    "from adp_dwh.co_sandbox_datos.tmp_test_fabio\n",
    ";\n",
    "\"\"\"\n",
    "\n",
    "postgresql_cur.execute(query)\n",
    "postgresql_data = postgresql_cur.fetchall()\n",
    "postgresql_data"
   ]
  },
  {
   "cell_type": "code",
   "execution_count": 19,
   "metadata": {},
   "outputs": [],
   "source": [
    "from src.processor import PostgreSQLProcessor, RedshiftProcessor"
   ]
  },
  {
   "cell_type": "code",
   "execution_count": 20,
   "metadata": {},
   "outputs": [],
   "source": [
    "postgresqlconn_data = dict(\n",
    "    host = os.environ[\"HOST\"],\n",
    "    port = os.environ[\"PORT\"],\n",
    "    user = os.environ[\"USER\"],\n",
    "    password = os.environ[\"PASS\"],\n",
    "    database = os.environ[\"DB\"]\n",
    ")\n",
    "\n",
    "processor = PostgreSQLProcessor(**postgresqlconn_data)\n",
    "processor.connect()\n"
   ]
  },
  {
   "cell_type": "code",
   "execution_count": 21,
   "metadata": {},
   "outputs": [
    {
     "name": "stderr",
     "output_type": "stream",
     "text": [
      "/mnt/N1662770/poc_soda_files/src/processor.py:98: UserWarning: pandas only supports SQLAlchemy connectable (engine/connection) or database string URI or sqlite3 DBAPI2 connection. Other DBAPI2 objects are not tested. Please consider using SQLAlchemy.\n",
      "  df = pd.read_sql_query(query, self.connection)\n"
     ]
    },
    {
     "data": {
      "text/html": [
       "<div>\n",
       "<style scoped>\n",
       "    .dataframe tbody tr th:only-of-type {\n",
       "        vertical-align: middle;\n",
       "    }\n",
       "\n",
       "    .dataframe tbody tr th {\n",
       "        vertical-align: top;\n",
       "    }\n",
       "\n",
       "    .dataframe thead th {\n",
       "        text-align: right;\n",
       "    }\n",
       "</style>\n",
       "<table border=\"1\" class=\"dataframe\">\n",
       "  <thead>\n",
       "    <tr style=\"text-align: right;\">\n",
       "      <th></th>\n",
       "      <th>id</th>\n",
       "      <th>raw_data</th>\n",
       "      <th>can_json</th>\n",
       "      <th>json</th>\n",
       "      <th>extraccion</th>\n",
       "      <th>inexistente</th>\n",
       "    </tr>\n",
       "  </thead>\n",
       "  <tbody>\n",
       "    <tr>\n",
       "      <th>0</th>\n",
       "      <td>1</td>\n",
       "      <td>None</td>\n",
       "      <td>None</td>\n",
       "      <td>null</td>\n",
       "      <td>None</td>\n",
       "      <td>None</td>\n",
       "    </tr>\n",
       "    <tr>\n",
       "      <th>1</th>\n",
       "      <td>1</td>\n",
       "      <td>{\"llave\": \"Valor\"}</td>\n",
       "      <td>True</td>\n",
       "      <td>\"{\\\"llave\\\": \\\"Valor\\\"}\"</td>\n",
       "      <td>Valor</td>\n",
       "      <td></td>\n",
       "    </tr>\n",
       "  </tbody>\n",
       "</table>\n",
       "</div>"
      ],
      "text/plain": [
       "   id            raw_data can_json                      json extraccion  \\\n",
       "0   1                None     None                      null       None   \n",
       "1   1  {\"llave\": \"Valor\"}     True  \"{\\\"llave\\\": \\\"Valor\\\"}\"      Valor   \n",
       "\n",
       "  inexistente  \n",
       "0        None  \n",
       "1              "
      ]
     },
     "execution_count": 21,
     "metadata": {},
     "output_type": "execute_result"
    }
   ],
   "source": [
    "query = \"\"\"\n",
    "select\n",
    "\tid\n",
    "\t, raw_data::varchar\n",
    "\t, CAN_JSON_PARSE(raw_data::VARCHAR) as can_json\n",
    "\t, JSON_SERIALIZE(raw_data) as json\n",
    "\t, JSON_EXTRACT_PATH_TEXT(raw_data::varchar, 'llave') as extraccion\n",
    "\t, JSON_EXTRACT_PATH_TEXT(raw_data::varchar, 'llave_inexistente') as inexistente\n",
    "from adp_dwh.co_sandbox_datos.tmp_test_fabio\n",
    ";\n",
    "\"\"\"\n",
    "\n",
    "processor.fetch_data_as_dataframe(query)"
   ]
  },
  {
   "cell_type": "code",
   "execution_count": null,
   "metadata": {},
   "outputs": [],
   "source": []
  }
 ],
 "metadata": {
  "kernelspec": {
   "display_name": "soda_files",
   "language": "python",
   "name": "python3"
  },
  "language_info": {
   "codemirror_mode": {
    "name": "ipython",
    "version": 3
   },
   "file_extension": ".py",
   "mimetype": "text/x-python",
   "name": "python",
   "nbconvert_exporter": "python",
   "pygments_lexer": "ipython3",
   "version": "3.8.19"
  },
  "orig_nbformat": 4
 },
 "nbformat": 4,
 "nbformat_minor": 2
}
